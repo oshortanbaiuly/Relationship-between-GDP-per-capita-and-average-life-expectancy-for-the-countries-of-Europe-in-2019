{
 "cells": [
  {
   "cell_type": "markdown",
   "id": "electoral-marijuana",
   "metadata": {},
   "source": [
    "# Project-1"
   ]
  },
  {
   "cell_type": "markdown",
   "id": "continental-politics",
   "metadata": {},
   "source": [
    "*Author: Olzhas Shortanbaiuly.*"
   ]
  },
  {
   "cell_type": "markdown",
   "id": "egyptian-zoning",
   "metadata": {},
   "source": [
    "**Research question**: What is the relationship between GDP per capita and average life expectancy for the countries of Europe in 2019?"
   ]
  },
  {
   "cell_type": "markdown",
   "id": "corrected-triumph",
   "metadata": {},
   "source": [
    "## Introduction"
   ]
  },
  {
   "cell_type": "markdown",
   "id": "authorized-grounds",
   "metadata": {},
   "source": [
    "**Human Development Index** is an important statistic evaluating the quality of life for different countries. In calculation of Human Development Index, indicators as education level, life expectancy and gross national product per capita are used. I asked myself, in HDI, we use GNP, what if we changed it by GDP(gross domestic product)? How the GDP per capita affects the HDI or one of its components - life expectancy? <br>\n",
    "Thereby, in this research project, *GDP per capita* and *life expectancy* were chosen as variables. <br>\n",
    "It is known that <br>\n",
    "**GDP per capita (in $)** - metric meaning the country's economic output per person.\n",
    "For this project, I took GDP per capita values measured with *Purchasing Power Parity (PPP)*. The data were collected from World Bank Open Data (data.worldbank.org).  <br>\n",
    "**Life expectancy (in years)** - measure of years expected for the citizens of the certain country to live. This metric is measured for two cases: at birth and at age 60. In this project, I used *life expectancy at birth*. The data source was Human Development Report 2020 by United Nations Development Programme. <br>\n",
    "<br>\n",
    "The data was collected for 38 European countries."
   ]
  },
  {
   "cell_type": "code",
   "execution_count": 1,
   "id": "accompanied-ministry",
   "metadata": {},
   "outputs": [
    {
     "name": "stdout",
     "output_type": "stream",
     "text": [
      "       GDP   LE\n",
      "1  13341.2 72.1\n",
      "2  13627.0 71.9\n",
      "3  14496.1 78.6\n",
      "4  15883.3 77.4\n",
      "5  17607.5 75.8\n",
      "6  19013.4 76.0\n",
      "7  19997.1 74.8\n",
      "8  23189.2 76.9\n",
      "9  24789.6 75.1\n",
      "10 29181.4 72.9\n",
      "11 30140.8 78.5\n",
      "12 30722.2 82.2\n",
      "13 32191.0 75.3\n",
      "14 32297.3 76.1\n",
      "15 34066.9 77.5\n",
      "16 34431.2 78.7\n",
      "17 34507.1 76.9\n",
      "18 36639.3 82.1\n",
      "19 38501.8 75.9\n",
      "20 38915.2 78.8\n",
      "21 40983.4 81.3\n",
      "22 41254.4 81.0\n",
      "23 42195.2 83.5\n",
      "24 43299.6 79.4\n",
      "25 44248.2 83.4\n",
      "26 46279.1 82.5\n",
      "27 48698.1 81.3\n",
      "28 49435.2 82.7\n",
      "29 51426.0 81.9\n",
      "30 54904.7 81.6\n",
      "31 55819.9 82.8\n",
      "32 56278.2 81.3\n",
      "33 58946.4 81.5\n",
      "34 59554.2 82.3\n",
      "35 60061.4 83.0\n",
      "36 60178.5 80.9\n",
      "37 66831.9 82.4\n",
      "38 70989.3 83.8\n",
      "39 88240.9 82.3\n"
     ]
    }
   ],
   "source": [
    "gdp_le <- read.csv(\"C:/Users/admin/Desktop/MATH 440 Regression Analysis/project/data.txt\", sep='\\t')\n",
    "print(gdp_le)\n",
    "my_model <-lm(LE~GDP, data = gdp_le)"
   ]
  },
  {
   "cell_type": "markdown",
   "id": "dressed-plain",
   "metadata": {},
   "source": [
    "To perform any kind of analysis on our data, we should perform diagnostics on predictor variable and check whether it satisfies these 4 assumptions: <br>\n",
    "1. *Normality* - checked by the QQ plot or by Shapiro-Wilk normality test; <br>\n",
    "2. *Homogeneity of variance* - checked by the plot of residuals $e_i$ versus the fitted values $\\hat{y_i}$;\n",
    "3. *Linearity* - checked by the plot of residuals $e_i$ versus the fitted values $\\hat{y}$;\n",
    "4. *Independence* - checked by the plot of residuals $e_i$ versus $i$."
   ]
  },
  {
   "cell_type": "code",
   "execution_count": 2,
   "id": "loaded-institution",
   "metadata": {},
   "outputs": [
    {
     "data": {
      "image/png": "[encoded data removed]",
      "text/plain": [
       "Plot with title \"Normal Q-Q Plot\""
      ]
     },
     "metadata": {},
     "output_type": "display_data"
    }
   ],
   "source": [
    "#Checking normality\n",
    "options(repr.plot.width = 6,repr.plot.height = 4)\n",
    "qqnorm(gdp_le$LE)\n",
    "qqline(gdp_le$LE)"
   ]
  },
  {
   "cell_type": "code",
   "execution_count": 3,
   "id": "victorian-morgan",
   "metadata": {},
   "outputs": [
    {
     "data": {
      "image/png": "[encoded data removed]",
      "text/plain": [
       "Plot with title \"Residuals vs Fitted values\""
      ]
     },
     "metadata": {},
     "output_type": "display_data"
    }
   ],
   "source": [
    "# Checking homogeneity of variance and linearity \n",
    "estimate = my_model$coefficients[1]+gdp_le[1]*my_model$coefficients[2]\n",
    "df = data.frame(estimate, resid(my_model))\n",
    "plot(df,xlab = 'Fitted values of life expectancy', ylab = 'Residuals', main = 'Residuals vs Fitted values')\n",
    "abline(h = 0)"
   ]
  },
  {
   "cell_type": "code",
   "execution_count": 4,
   "id": "independent-battle",
   "metadata": {},
   "outputs": [
    {
     "data": {
      "image/png": "[encoded data removed]",
      "text/plain": [
       "Plot with title \"Residuals vs Indexes\""
      ]
     },
     "metadata": {},
     "output_type": "display_data"
    }
   ],
   "source": [
    "#Checking independence\n",
    "ind = seq(1,length(resid(my_model)))\n",
    "plot(ind,resid(my_model),xlab = 'i', ylab = '$e_i$', main = 'Residuals vs Indexes')"
   ]
  },
  {
   "cell_type": "markdown",
   "id": "italic-retro",
   "metadata": {},
   "source": [
    "From the plots above, we come to the following conclusions:\n",
    "1. *Normality* - QQ plot shows that values approximately lie along the line y=x, so **the normality is violated**; <br>\n",
    "2. *Homogeneity of variance* - across the $\\hat{y_i}$ values, a constant spread of the residuals $e_i$ is not observed, so **homogeneity of variance is violated**;\n",
    "3. *Linearity* - the residuals $e_i$ are not evenly spread on both sides of 0, so **linearity is violated**;\n",
    "4. *Independence* - in the plot of residuals $e_i$ versus $i$, any pattern can't be observed, so **independence is satisfied**.\n",
    "\n",
    "From these assumptions, we may see that the relationship between GDP per capita and life expectancy at birth is not expected to be approximated well using the linear model."
   ]
  },
  {
   "cell_type": "markdown",
   "id": "forty-fields",
   "metadata": {},
   "source": [
    "## Analysis"
   ]
  },
  {
   "cell_type": "markdown",
   "id": "delayed-energy",
   "metadata": {},
   "source": [
    "Addressing our research question, the first question comes to find: <br>\n",
    "**Is the relationship between GDP per capita and life expectancy at birth linear or not?** <br>\n",
    "To check this, we can use T-test for the slope $\\beta_1$ or make a linear regression plot to our data. <br>\n",
    "Let's start off with the hypothesis test for slope $\\beta_1$."
   ]
  },
  {
   "cell_type": "code",
   "execution_count": 8,
   "id": "defensive-virtue",
   "metadata": {},
   "outputs": [
    {
     "data": {
      "text/plain": [
       "\n",
       "Call:\n",
       "lm(formula = LE ~ GDP, data = gdp_le)\n",
       "\n",
       "Residuals:\n",
       "    Min      1Q  Median      3Q     Max \n",
       "-4.7229 -1.4049 -0.0791  1.3807  4.3465 \n",
       "\n",
       "Coefficients:\n",
       "             Estimate Std. Error t value Pr(>|t|)    \n",
       "(Intercept) 7.326e+01  9.089e-01  80.598  < 2e-16 ***\n",
       "GDP         1.496e-04  2.071e-05   7.227 1.42e-08 ***\n",
       "---\n",
       "Signif. codes:  0 '***' 0.001 '**' 0.01 '*' 0.05 '.' 0.1 ' ' 1\n",
       "\n",
       "Residual standard error: 2.239 on 37 degrees of freedom\n",
       "Multiple R-squared:  0.5853,\tAdjusted R-squared:  0.5741 \n",
       "F-statistic: 52.23 on 1 and 37 DF,  p-value: 1.416e-08\n"
      ]
     },
     "metadata": {},
     "output_type": "display_data"
    }
   ],
   "source": [
    "my_model <- lm(LE~GDP, data = gdp_le)\n",
    "summary(my_model)"
   ]
  },
  {
   "cell_type": "markdown",
   "id": "collaborative-reasoning",
   "metadata": {},
   "source": [
    "We check the p-value for the t-statistic of GDP. Our hypothesis test for slope $\\beta_1$ is the following:<br>\n",
    "$H_{0}$: $\\beta_1 = 0 $<br>\n",
    "$H_{a}$: $\\beta_1 \\neq 0 $<br>\n",
    "In the test for slope, as we obtained that $\\beta_1$ = 0.0001496, the null hypothesis is rejected at any reasonable significance level, which means that the regression line has a non-zero slope and thereby *the relationship between GDP per capita and life expectancy is linear*. It can be shown using the following plot too."
   ]
  },
  {
   "cell_type": "code",
   "execution_count": 6,
   "id": "anticipated-transformation",
   "metadata": {},
   "outputs": [
    {
     "data": {
      "image/png": "[encoded data removed]",
      "text/plain": [
       "plot without title"
      ]
     },
     "metadata": {},
     "output_type": "display_data"
    }
   ],
   "source": [
    "options(repr.plot.width = 6,repr.plot.height = 4)\n",
    "df = data.frame(gdp_le[1], gdp_le[2])\n",
    "plot(df)\n",
    "abline(my_model)"
   ]
  },
  {
   "cell_type": "markdown",
   "id": "horizontal-olive",
   "metadata": {},
   "source": [
    "As we can see from the plot and hypothesis test for the slope of the regression line, generally, linear regression can be used to approximate the relationship between GDP per capita and life expectancy."
   ]
  },
  {
   "cell_type": "markdown",
   "id": "introductory-scanning",
   "metadata": {},
   "source": [
    "Now, there rises a question regarding the linearity of relationship between GDP per capita and life expectancy at birth. The assumptions of linear regression were not satisfied, but the outcomes above show that this relationship can be fitted using a regression line. To further investigate it, we calculate *the coefficient of determination* and *sample correlation*."
   ]
  },
  {
   "cell_type": "code",
   "execution_count": 12,
   "id": "novel-familiar",
   "metadata": {},
   "outputs": [
    {
     "data": {
      "text/html": [
       "0.574122626709282"
      ],
      "text/latex": [
       "0.574122626709282"
      ],
      "text/markdown": [
       "0.574122626709282"
      ],
      "text/plain": [
       "[1] 0.5741226"
      ]
     },
     "metadata": {},
     "output_type": "display_data"
    },
    {
     "data": {
      "text/html": [
       "0.757708800733687"
      ],
      "text/latex": [
       "0.757708800733687"
      ],
      "text/markdown": [
       "0.757708800733687"
      ],
      "text/plain": [
       "[1] 0.7577088"
      ]
     },
     "metadata": {},
     "output_type": "display_data"
    }
   ],
   "source": [
    "a=summary(my_model)$adj.r.squared\n",
    "a\n",
    "sqrt(a)"
   ]
  },
  {
   "cell_type": "markdown",
   "id": "clear-engine",
   "metadata": {},
   "source": [
    "$R^2$ = 0.574122626709282 -> the linear relationship between life expectancy at birth and GDP per capita is not strong. <br>\n",
    "r = 0.757708800733687 -> approximately strong positive, linear association between life expectancy at birth and GDP per capita."
   ]
  },
  {
   "cell_type": "markdown",
   "id": "national-violin",
   "metadata": {},
   "source": [
    "## Conclusion"
   ]
  },
  {
   "cell_type": "markdown",
   "id": "friendly-lying",
   "metadata": {},
   "source": [
    "To conclude, there is a linear relationship between life expectancy at birth and GDP per capita for countries of Europe in 2019, even though it is not strong, which was proved by hypothesis test on the slope of regression line and the coefficient of determination. Even though my analysis gave me certain conclusions on how the life expectancy changes in response to GDP per capita, as the regression assumptions were not satisfied, calculations obtained by the linear regression model may be inefficient. So we can't clearly state that life expectancy at birth directly depends from GDP per capita in countries of Europe in 2019."
   ]
  },
  {
   "cell_type": "markdown",
   "id": "economic-symbol",
   "metadata": {},
   "source": [
    "## Discussion"
   ]
  },
  {
   "cell_type": "markdown",
   "id": "younger-redhead",
   "metadata": {},
   "source": [
    "There were certain weaknesses of the methods that I used in my analysis. First of all, I kept checking the summary statistic values despite the fact that the regression assumptions were not satisfied. To improve the results of the work, I recommend to investigate this analysis by taking GDP per capita as a predictor variable instead. GDP per capita values showed normality, which could be seen from QQ plot and Shapiro-Wilk test, as all the values lie along the QQ line and Shapiro-Wilk test gives a p-value of 0.8433 which is greater than 0.05, making us unable to reject the null hypothesis that the data are normally distributed. <br>\n",
    "<br>\n",
    "On top of that, life expectancy does not only depend from GDP per capita or income, so the quality of healthcare system should be considered too. This work can be improved by performing multivariable regression analysis taking into consideration the public health expenditures."
   ]
  },
  {
   "cell_type": "code",
   "execution_count": 13,
   "id": "governing-disclaimer",
   "metadata": {},
   "outputs": [
    {
     "data": {
      "image/png": "[encoded data removed]",
      "text/plain": [
       "Plot with title \"Normal Q-Q Plot\""
      ]
     },
     "metadata": {},
     "output_type": "display_data"
    }
   ],
   "source": [
    "qqnorm(gdp_le$GDP)\n",
    "qqline(gdp_le$GDP)"
   ]
  },
  {
   "cell_type": "code",
   "execution_count": 14,
   "id": "growing-turkey",
   "metadata": {},
   "outputs": [
    {
     "data": {
      "text/plain": [
       "\n",
       "\tShapiro-Wilk normality test\n",
       "\n",
       "data:  re\n",
       "W = 0.98403, p-value = 0.8433\n"
      ]
     },
     "metadata": {},
     "output_type": "display_data"
    }
   ],
   "source": [
    "re=my_model$residuals\n",
    "shapiro.test(re)"
   ]
  }
 ],
 "metadata": {
  "kernelspec": {
   "display_name": "R",
   "language": "R",
   "name": "ir"
  },
  "language_info": {
   "codemirror_mode": "r",
   "file_extension": ".r",
   "mimetype": "text/x-r-source",
   "name": "R",
   "pygments_lexer": "r",
   "version": "3.6.1"
  }
 },
 "nbformat": 4,
 "nbformat_minor": 5
}
